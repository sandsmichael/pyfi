{
 "cells": [
  {
   "cell_type": "code",
   "execution_count": 6,
   "metadata": {},
   "outputs": [],
   "source": [
    "import pandas as pd\n"
   ]
  },
  {
   "cell_type": "code",
   "execution_count": 7,
   "metadata": {},
   "outputs": [],
   "source": [
    "import lstm\n",
    "from lstm import PortfolioDataset, HybridPortfolioModel"
   ]
  },
  {
   "cell_type": "code",
   "execution_count": 8,
   "metadata": {},
   "outputs": [],
   "source": [
    "benchmark_weights = {\n",
    "    'Materials': 0.025,\n",
    "    'Industrials': 0.10,\n",
    "    'Consumer Discretionary': 0.10,\n",
    "    'Consumer Staples': 0.05,\n",
    "    'Health Care': 0.10,\n",
    "    'Financials': 0.15,\n",
    "    'Info Tech': 0.30,\n",
    "    'Comm Services': 0.10,\n",
    "    'Utilities': 0.025,\n",
    "    'Real Estate': 0.025,\n",
    "    'Energy': 0.025\n",
    "}"
   ]
  },
  {
   "cell_type": "markdown",
   "metadata": {},
   "source": [
    "# Portfolio Dataset"
   ]
  },
  {
   "cell_type": "code",
   "execution_count": 9,
   "metadata": {},
   "outputs": [],
   "source": [
    "pfd = PortfolioDataset(data_path=\"data.csv\", window_size=252, portfolio_columns=lstm.sp500_sectors.values())"
   ]
  },
  {
   "cell_type": "code",
   "execution_count": 10,
   "metadata": {},
   "outputs": [],
   "source": [
    "features, returns = pfd.prepare_sequence(start_idx=0)"
   ]
  },
  {
   "cell_type": "code",
   "execution_count": 11,
   "metadata": {},
   "outputs": [
    {
     "data": {
      "text/plain": [
       "tensor([[ 1.7000e-03, -2.0000e-04, -6.0000e-04,  ..., -8.1222e-03,\n",
       "          2.3355e-02,  8.2359e-03],\n",
       "        [ 3.0000e-04,  2.6000e-03, -8.1000e-03,  ..., -5.3881e-03,\n",
       "         -1.1004e-02, -2.1805e-02],\n",
       "        [-1.0000e-04,  2.1000e-03, -3.7000e-03,  ...,  6.9893e-04,\n",
       "          4.3216e-04,  1.0194e-02],\n",
       "        ...,\n",
       "        [ 1.5000e-02, -7.7000e-03,  3.2000e-03,  ..., -2.6890e-04,\n",
       "         -1.7937e-02, -1.1994e-02],\n",
       "        [ 1.0900e-02, -3.0000e-04, -5.6000e-03,  ...,  7.3943e-04,\n",
       "         -4.2025e-03,  1.7899e-03],\n",
       "        [-2.0000e-03, -4.5000e-03, -7.3000e-03,  ..., -1.0130e-02,\n",
       "         -2.8412e-03, -5.2607e-04]])"
      ]
     },
     "execution_count": 11,
     "metadata": {},
     "output_type": "execute_result"
    }
   ],
   "source": [
    "features"
   ]
  },
  {
   "cell_type": "code",
   "execution_count": 12,
   "metadata": {},
   "outputs": [
    {
     "data": {
      "text/plain": [
       "tensor([ 0.0313,  0.0371, -0.0287,  0.0374, -0.0318, -0.0008,  0.0757,  0.0622,\n",
       "         0.0980, -0.0205,  0.0313])"
      ]
     },
     "execution_count": 12,
     "metadata": {},
     "output_type": "execute_result"
    }
   ],
   "source": [
    "returns"
   ]
  },
  {
   "cell_type": "code",
   "execution_count": 13,
   "metadata": {},
   "outputs": [],
   "source": [
    "features, returns = pfd.get_prediction_data()"
   ]
  },
  {
   "cell_type": "code",
   "execution_count": 14,
   "metadata": {},
   "outputs": [
    {
     "data": {
      "text/plain": [
       "tensor([[ 0.0028, -0.0013, -0.0029,  ...,  0.0053, -0.0064, -0.0029],\n",
       "        [ 0.0020, -0.0021, -0.0104,  ...,  0.0017, -0.0067,  0.0062],\n",
       "        [ 0.0094,  0.0075,  0.0005,  ..., -0.0099,  0.0023,  0.0063],\n",
       "        ...,\n",
       "        [-0.0109,  0.0024,  0.0074,  ...,  0.0041, -0.0051, -0.0051],\n",
       "        [-0.0109,  0.0024,  0.0074,  ...,  0.0041, -0.0051, -0.0051],\n",
       "        [-0.0109,  0.0024,  0.0074,  ...,  0.0041, -0.0051, -0.0051]])"
      ]
     },
     "execution_count": 14,
     "metadata": {},
     "output_type": "execute_result"
    }
   ],
   "source": [
    "features"
   ]
  },
  {
   "cell_type": "code",
   "execution_count": 15,
   "metadata": {},
   "outputs": [
    {
     "data": {
      "text/plain": [
       "tensor([0.0831, 0.1708, 0.2651, 0.1506, 0.0128, 0.2905, 0.2473, 0.3160, 0.2771,\n",
       "        0.1057, 0.0708])"
      ]
     },
     "execution_count": 15,
     "metadata": {},
     "output_type": "execute_result"
    }
   ],
   "source": [
    "returns"
   ]
  },
  {
   "cell_type": "markdown",
   "metadata": {},
   "source": [
    "# Hybrid Portfolio Model"
   ]
  },
  {
   "cell_type": "code",
   "execution_count": 16,
   "metadata": {},
   "outputs": [],
   "source": [
    "hpm =  HybridPortfolioModel(pfd.state_size, 64, pfd.num_assets, benchmark_weights=benchmark_weights)"
   ]
  },
  {
   "cell_type": "code",
   "execution_count": 18,
   "metadata": {},
   "outputs": [
    {
     "data": {
      "text/plain": [
       "64"
      ]
     },
     "execution_count": 18,
     "metadata": {},
     "output_type": "execute_result"
    }
   ],
   "source": [
    "hpm.hidden_dim"
   ]
  },
  {
   "cell_type": "code",
   "execution_count": 19,
   "metadata": {},
   "outputs": [
    {
     "data": {
      "text/plain": [
       "2"
      ]
     },
     "execution_count": 19,
     "metadata": {},
     "output_type": "execute_result"
    }
   ],
   "source": [
    "hpm.num_layers"
   ]
  },
  {
   "cell_type": "code",
   "execution_count": 20,
   "metadata": {},
   "outputs": [
    {
     "data": {
      "text/plain": [
       "LSTM(48, 64, num_layers=2, batch_first=True, dropout=0.2)"
      ]
     },
     "execution_count": 20,
     "metadata": {},
     "output_type": "execute_result"
    }
   ],
   "source": [
    "hpm.lstm"
   ]
  },
  {
   "cell_type": "code",
   "execution_count": 21,
   "metadata": {},
   "outputs": [
    {
     "data": {
      "text/plain": [
       "Sequential(\n",
       "  (0): Linear(in_features=64, out_features=64, bias=True)\n",
       "  (1): ReLU()\n",
       "  (2): Linear(in_features=64, out_features=11, bias=True)\n",
       "  (3): Softmax(dim=-1)\n",
       "  (4): MinMaxScaler()\n",
       ")"
      ]
     },
     "execution_count": 21,
     "metadata": {},
     "output_type": "execute_result"
    }
   ],
   "source": [
    "hpm.allocation"
   ]
  },
  {
   "cell_type": "code",
   "execution_count": 32,
   "metadata": {},
   "outputs": [
    {
     "data": {
      "text/plain": [
       "tensor([[0.0700, 0.0800, 0.0900, 0.0700, 0.0700, 0.0900, 0.2000, 0.0900, 0.0800,\n",
       "         0.0900, 0.0900]], grad_fn=<DivBackward0>)"
      ]
     },
     "execution_count": 32,
     "metadata": {},
     "output_type": "execute_result"
    }
   ],
   "source": [
    "hpm.forward(pfd.prepare_sequence(850)[0].unsqueeze(0))"
   ]
  },
  {
   "cell_type": "markdown",
   "metadata": {},
   "source": [
    "# Portfolio Optimizer"
   ]
  },
  {
   "cell_type": "code",
   "execution_count": 17,
   "metadata": {},
   "outputs": [],
   "source": [
    "# optimizer = PortfolioOptimizer(dataset, hidden_dim=64, lr=0.0005)\n"
   ]
  }
 ],
 "metadata": {
  "kernelspec": {
   "display_name": "venv",
   "language": "python",
   "name": "python3"
  },
  "language_info": {
   "codemirror_mode": {
    "name": "ipython",
    "version": 3
   },
   "file_extension": ".py",
   "mimetype": "text/x-python",
   "name": "python",
   "nbconvert_exporter": "python",
   "pygments_lexer": "ipython3",
   "version": "3.12.9"
  }
 },
 "nbformat": 4,
 "nbformat_minor": 2
}
