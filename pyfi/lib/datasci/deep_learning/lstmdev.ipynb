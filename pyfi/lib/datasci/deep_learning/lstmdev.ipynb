{
 "cells": [
  {
   "cell_type": "code",
   "execution_count": 1,
   "metadata": {},
   "outputs": [],
   "source": [
    "import pandas as pd\n",
    "%load_ext autoreload\n",
    "%autoreload 2\n",
    "DATA_FP = r\"C:\\Users\\micha\\OneDrive\\Documents\\data\\lstm_data.csv\"\n"
   ]
  },
  {
   "cell_type": "code",
   "execution_count": 2,
   "metadata": {},
   "outputs": [],
   "source": [
    "import lstm\n",
    "from lstm import PortfolioDataset, HybridPortfolioModel, PortfolioOptimizer\n",
    "\n"
   ]
  },
  {
   "cell_type": "code",
   "execution_count": 3,
   "metadata": {},
   "outputs": [],
   "source": [
    "benchmark_weights = {\n",
    "    'Materials': 0.025,\n",
    "    'Industrials': 0.10,\n",
    "    'Consumer Discretionary': 0.10,\n",
    "    'Consumer Staples': 0.05,\n",
    "    'Health Care': 0.10,\n",
    "    'Financials': 0.15,\n",
    "    'Info Tech': 0.30,\n",
    "    'Comm Services': 0.10,\n",
    "    'Utilities': 0.025,\n",
    "    'Real Estate': 0.025,\n",
    "    'Energy': 0.025\n",
    "}"
   ]
  },
  {
   "cell_type": "markdown",
   "metadata": {},
   "source": [
    "# Portfolio Dataset"
   ]
  },
  {
   "cell_type": "code",
   "execution_count": 4,
   "metadata": {},
   "outputs": [],
   "source": [
    "pfd = PortfolioDataset(data_path=DATA_FP, window_size=252, portfolio_columns=lstm.sp500_sectors.values())"
   ]
  },
  {
   "cell_type": "code",
   "execution_count": 33,
   "metadata": {},
   "outputs": [
    {
     "data": {
      "text/html": [
       "<div>\n",
       "<style scoped>\n",
       "    .dataframe tbody tr th:only-of-type {\n",
       "        vertical-align: middle;\n",
       "    }\n",
       "\n",
       "    .dataframe tbody tr th {\n",
       "        vertical-align: top;\n",
       "    }\n",
       "\n",
       "    .dataframe thead th {\n",
       "        text-align: right;\n",
       "    }\n",
       "</style>\n",
       "<table border=\"1\" class=\"dataframe\">\n",
       "  <thead>\n",
       "    <tr style=\"text-align: right;\">\n",
       "      <th></th>\n",
       "      <th>SPX</th>\n",
       "      <th>Info Tech</th>\n",
       "      <th>Financials</th>\n",
       "      <th>Consumer Discretionary</th>\n",
       "      <th>Health Care</th>\n",
       "      <th>Comm Services</th>\n",
       "      <th>Industrials</th>\n",
       "      <th>Consumer Staples</th>\n",
       "      <th>Energy</th>\n",
       "      <th>Utilities</th>\n",
       "      <th>...</th>\n",
       "      <th>S5RLST Index_1bf_eps_pct_chg_3m</th>\n",
       "      <th>S5RLST Index_1bf_eps_pct_chg_6m</th>\n",
       "      <th>S5RLST Index_1bf_eps_pct_chg_12m</th>\n",
       "      <th>S5RLST Index1bf_eps_zscore_3m</th>\n",
       "      <th>S5RLST Index_trend_1m</th>\n",
       "      <th>S5RLST Index_1bf_eps_rsi_21d</th>\n",
       "      <th>S5RLST Index_1bf_eps_rsi_63d</th>\n",
       "      <th>S5RLST Index_1bf_eps_rsi_126d</th>\n",
       "      <th>S5RLST Index_1bf_eps_rsi_cross</th>\n",
       "      <th>S5RLST Index_1bf_eps_rsi_extreme</th>\n",
       "    </tr>\n",
       "  </thead>\n",
       "  <tbody>\n",
       "    <tr>\n",
       "      <th>2016-09-19</th>\n",
       "      <td>-0.000019</td>\n",
       "      <td>-0.002402</td>\n",
       "      <td>0.004907</td>\n",
       "      <td>-0.001058</td>\n",
       "      <td>-0.004143</td>\n",
       "      <td>-0.006857</td>\n",
       "      <td>0.003397</td>\n",
       "      <td>-0.001458</td>\n",
       "      <td>-0.001208</td>\n",
       "      <td>0.009898</td>\n",
       "      <td>...</td>\n",
       "      <td>4.8429</td>\n",
       "      <td>4.8429</td>\n",
       "      <td>4.8429</td>\n",
       "      <td>7.811266</td>\n",
       "      <td>0.230614</td>\n",
       "      <td>100.000000</td>\n",
       "      <td>100.000000</td>\n",
       "      <td>100.000000</td>\n",
       "      <td>0.0</td>\n",
       "      <td>1.0</td>\n",
       "    </tr>\n",
       "    <tr>\n",
       "      <th>2016-09-20</th>\n",
       "      <td>0.000299</td>\n",
       "      <td>-0.000177</td>\n",
       "      <td>0.000935</td>\n",
       "      <td>0.000969</td>\n",
       "      <td>0.003844</td>\n",
       "      <td>-0.001841</td>\n",
       "      <td>0.001299</td>\n",
       "      <td>0.002398</td>\n",
       "      <td>-0.008277</td>\n",
       "      <td>-0.001940</td>\n",
       "      <td>...</td>\n",
       "      <td>4.8052</td>\n",
       "      <td>4.8052</td>\n",
       "      <td>4.8052</td>\n",
       "      <td>5.456522</td>\n",
       "      <td>0.459433</td>\n",
       "      <td>99.866946</td>\n",
       "      <td>99.866946</td>\n",
       "      <td>99.866946</td>\n",
       "      <td>0.0</td>\n",
       "      <td>1.0</td>\n",
       "    </tr>\n",
       "    <tr>\n",
       "      <th>2016-09-21</th>\n",
       "      <td>0.010858</td>\n",
       "      <td>0.010877</td>\n",
       "      <td>0.006613</td>\n",
       "      <td>0.009018</td>\n",
       "      <td>0.009972</td>\n",
       "      <td>0.012755</td>\n",
       "      <td>0.012795</td>\n",
       "      <td>0.005566</td>\n",
       "      <td>0.020973</td>\n",
       "      <td>0.020788</td>\n",
       "      <td>...</td>\n",
       "      <td>4.8018</td>\n",
       "      <td>4.8018</td>\n",
       "      <td>4.8018</td>\n",
       "      <td>4.422120</td>\n",
       "      <td>0.688090</td>\n",
       "      <td>99.854886</td>\n",
       "      <td>99.854886</td>\n",
       "      <td>99.854886</td>\n",
       "      <td>0.0</td>\n",
       "      <td>1.0</td>\n",
       "    </tr>\n",
       "    <tr>\n",
       "      <th>2016-09-22</th>\n",
       "      <td>0.006479</td>\n",
       "      <td>0.005519</td>\n",
       "      <td>0.002750</td>\n",
       "      <td>0.007700</td>\n",
       "      <td>0.007544</td>\n",
       "      <td>0.011261</td>\n",
       "      <td>0.007142</td>\n",
       "      <td>0.008882</td>\n",
       "      <td>0.002167</td>\n",
       "      <td>0.005651</td>\n",
       "      <td>...</td>\n",
       "      <td>4.8018</td>\n",
       "      <td>4.8018</td>\n",
       "      <td>4.8018</td>\n",
       "      <td>3.800540</td>\n",
       "      <td>0.916748</td>\n",
       "      <td>99.854886</td>\n",
       "      <td>99.854886</td>\n",
       "      <td>99.854886</td>\n",
       "      <td>0.0</td>\n",
       "      <td>1.0</td>\n",
       "    </tr>\n",
       "    <tr>\n",
       "      <th>2016-09-23</th>\n",
       "      <td>-0.005753</td>\n",
       "      <td>-0.009660</td>\n",
       "      <td>-0.006967</td>\n",
       "      <td>-0.002271</td>\n",
       "      <td>-0.003457</td>\n",
       "      <td>0.003706</td>\n",
       "      <td>-0.006502</td>\n",
       "      <td>-0.005061</td>\n",
       "      <td>-0.012689</td>\n",
       "      <td>-0.001275</td>\n",
       "      <td>...</td>\n",
       "      <td>4.7896</td>\n",
       "      <td>4.7896</td>\n",
       "      <td>4.7896</td>\n",
       "      <td>3.364470</td>\n",
       "      <td>1.144824</td>\n",
       "      <td>99.811610</td>\n",
       "      <td>99.811610</td>\n",
       "      <td>99.811610</td>\n",
       "      <td>0.0</td>\n",
       "      <td>1.0</td>\n",
       "    </tr>\n",
       "  </tbody>\n",
       "</table>\n",
       "<p>5 rows × 207 columns</p>\n",
       "</div>"
      ],
      "text/plain": [
       "                 SPX  Info Tech  Financials  Consumer Discretionary  \\\n",
       "2016-09-19 -0.000019  -0.002402    0.004907               -0.001058   \n",
       "2016-09-20  0.000299  -0.000177    0.000935                0.000969   \n",
       "2016-09-21  0.010858   0.010877    0.006613                0.009018   \n",
       "2016-09-22  0.006479   0.005519    0.002750                0.007700   \n",
       "2016-09-23 -0.005753  -0.009660   -0.006967               -0.002271   \n",
       "\n",
       "            Health Care  Comm Services  Industrials  Consumer Staples  \\\n",
       "2016-09-19    -0.004143      -0.006857     0.003397         -0.001458   \n",
       "2016-09-20     0.003844      -0.001841     0.001299          0.002398   \n",
       "2016-09-21     0.009972       0.012755     0.012795          0.005566   \n",
       "2016-09-22     0.007544       0.011261     0.007142          0.008882   \n",
       "2016-09-23    -0.003457       0.003706    -0.006502         -0.005061   \n",
       "\n",
       "              Energy  Utilities  ...  S5RLST Index_1bf_eps_pct_chg_3m  \\\n",
       "2016-09-19 -0.001208   0.009898  ...                           4.8429   \n",
       "2016-09-20 -0.008277  -0.001940  ...                           4.8052   \n",
       "2016-09-21  0.020973   0.020788  ...                           4.8018   \n",
       "2016-09-22  0.002167   0.005651  ...                           4.8018   \n",
       "2016-09-23 -0.012689  -0.001275  ...                           4.7896   \n",
       "\n",
       "            S5RLST Index_1bf_eps_pct_chg_6m  S5RLST Index_1bf_eps_pct_chg_12m  \\\n",
       "2016-09-19                           4.8429                            4.8429   \n",
       "2016-09-20                           4.8052                            4.8052   \n",
       "2016-09-21                           4.8018                            4.8018   \n",
       "2016-09-22                           4.8018                            4.8018   \n",
       "2016-09-23                           4.7896                            4.7896   \n",
       "\n",
       "            S5RLST Index1bf_eps_zscore_3m  S5RLST Index_trend_1m  \\\n",
       "2016-09-19                       7.811266               0.230614   \n",
       "2016-09-20                       5.456522               0.459433   \n",
       "2016-09-21                       4.422120               0.688090   \n",
       "2016-09-22                       3.800540               0.916748   \n",
       "2016-09-23                       3.364470               1.144824   \n",
       "\n",
       "            S5RLST Index_1bf_eps_rsi_21d  S5RLST Index_1bf_eps_rsi_63d  \\\n",
       "2016-09-19                    100.000000                    100.000000   \n",
       "2016-09-20                     99.866946                     99.866946   \n",
       "2016-09-21                     99.854886                     99.854886   \n",
       "2016-09-22                     99.854886                     99.854886   \n",
       "2016-09-23                     99.811610                     99.811610   \n",
       "\n",
       "            S5RLST Index_1bf_eps_rsi_126d  S5RLST Index_1bf_eps_rsi_cross  \\\n",
       "2016-09-19                     100.000000                             0.0   \n",
       "2016-09-20                      99.866946                             0.0   \n",
       "2016-09-21                      99.854886                             0.0   \n",
       "2016-09-22                      99.854886                             0.0   \n",
       "2016-09-23                      99.811610                             0.0   \n",
       "\n",
       "            S5RLST Index_1bf_eps_rsi_extreme  \n",
       "2016-09-19                               1.0  \n",
       "2016-09-20                               1.0  \n",
       "2016-09-21                               1.0  \n",
       "2016-09-22                               1.0  \n",
       "2016-09-23                               1.0  \n",
       "\n",
       "[5 rows x 207 columns]"
      ]
     },
     "execution_count": 33,
     "metadata": {},
     "output_type": "execute_result"
    }
   ],
   "source": [
    "pfd.data.head()"
   ]
  },
  {
   "cell_type": "code",
   "execution_count": 5,
   "metadata": {},
   "outputs": [],
   "source": [
    "features, returns = pfd.prepare_sequence(start_idx=0)"
   ]
  },
  {
   "cell_type": "code",
   "execution_count": 6,
   "metadata": {},
   "outputs": [
    {
     "data": {
      "text/plain": [
       "tensor([[-2.4017e-03,  4.9068e-03, -1.0585e-03,  ...,  1.0000e+02,\n",
       "          0.0000e+00,  1.0000e+00],\n",
       "        [-1.7720e-04,  9.3487e-04,  9.6888e-04,  ...,  9.9867e+01,\n",
       "          0.0000e+00,  1.0000e+00],\n",
       "        [ 1.0877e-02,  6.6126e-03,  9.0177e-03,  ...,  9.9855e+01,\n",
       "          0.0000e+00,  1.0000e+00],\n",
       "        ...,\n",
       "        [-3.7286e-03, -3.4829e-03, -5.4594e-03,  ...,  5.5256e+01,\n",
       "         -1.0673e+01,  1.0000e+00],\n",
       "        [ 2.9899e-03,  4.7464e-03, -2.3164e-03,  ...,  5.5239e+01,\n",
       "         -9.9663e+00,  1.0000e+00],\n",
       "        [-3.2520e-04,  1.0099e-02, -4.2530e-03,  ...,  5.1846e+01,\n",
       "         -1.1721e+01,  1.0000e+00]])"
      ]
     },
     "execution_count": 6,
     "metadata": {},
     "output_type": "execute_result"
    }
   ],
   "source": [
    "features"
   ]
  },
  {
   "cell_type": "code",
   "execution_count": 7,
   "metadata": {},
   "outputs": [
    {
     "data": {
      "text/plain": [
       "tensor([ 0.0594,  0.1146,  0.2675, -0.0149,  0.1302,  0.1257,  0.2444, -0.0214,\n",
       "        -0.0249,  0.0141,  0.1168])"
      ]
     },
     "execution_count": 7,
     "metadata": {},
     "output_type": "execute_result"
    }
   ],
   "source": [
    "returns"
   ]
  },
  {
   "cell_type": "code",
   "execution_count": 8,
   "metadata": {},
   "outputs": [],
   "source": [
    "features, returns = pfd.get_prediction_data()"
   ]
  },
  {
   "cell_type": "code",
   "execution_count": 9,
   "metadata": {},
   "outputs": [
    {
     "data": {
      "text/plain": [
       "tensor([[ 4.3534e-03, -5.3826e-03,  1.1696e-02,  ...,  2.3521e+01,\n",
       "         -2.4019e+00,  1.0000e+00],\n",
       "        [ 3.8291e-03,  1.5572e-03,  1.1573e-02,  ...,  2.1706e+01,\n",
       "         -1.7956e+00,  1.0000e+00],\n",
       "        [-1.7688e-02, -1.0753e-02, -2.1879e-02,  ...,  2.1364e+01,\n",
       "         -2.8435e+00,  1.0000e+00],\n",
       "        ...,\n",
       "        [-7.7662e-03,  4.1505e-03, -2.7632e-03,  ...,  4.2046e+01,\n",
       "          2.8241e+00,  0.0000e+00],\n",
       "        [-1.5710e-02, -1.2861e-02, -1.9796e-02,  ...,  4.1883e+01,\n",
       "          5.5956e-01,  0.0000e+00],\n",
       "        [ 1.0894e-02,  9.5727e-03,  1.0163e-02,  ...,  4.1267e+01,\n",
       "          3.2736e+00,  0.0000e+00]])"
      ]
     },
     "execution_count": 9,
     "metadata": {},
     "output_type": "execute_result"
    }
   ],
   "source": [
    "features"
   ]
  },
  {
   "cell_type": "code",
   "execution_count": 10,
   "metadata": {},
   "outputs": [
    {
     "data": {
      "text/plain": [
       "tensor([0.0887, 0.1619, 0.2497, 0.1537, 0.0022, 0.2886, 0.2420, 0.2892, 0.2810,\n",
       "        0.1102, 0.0862])"
      ]
     },
     "execution_count": 10,
     "metadata": {},
     "output_type": "execute_result"
    }
   ],
   "source": [
    "returns"
   ]
  },
  {
   "cell_type": "markdown",
   "metadata": {},
   "source": [
    "# Hybrid Portfolio Model"
   ]
  },
  {
   "cell_type": "code",
   "execution_count": 11,
   "metadata": {},
   "outputs": [],
   "source": [
    "hpm =  HybridPortfolioModel(pfd.state_size, 64, pfd.num_assets, benchmark_weights=benchmark_weights)"
   ]
  },
  {
   "cell_type": "code",
   "execution_count": 12,
   "metadata": {},
   "outputs": [
    {
     "data": {
      "text/plain": [
       "64"
      ]
     },
     "execution_count": 12,
     "metadata": {},
     "output_type": "execute_result"
    }
   ],
   "source": [
    "hpm.hidden_dim"
   ]
  },
  {
   "cell_type": "code",
   "execution_count": 13,
   "metadata": {},
   "outputs": [
    {
     "data": {
      "text/plain": [
       "2"
      ]
     },
     "execution_count": 13,
     "metadata": {},
     "output_type": "execute_result"
    }
   ],
   "source": [
    "hpm.num_layers"
   ]
  },
  {
   "cell_type": "code",
   "execution_count": 14,
   "metadata": {},
   "outputs": [
    {
     "data": {
      "text/plain": [
       "LSTM(182, 64, num_layers=2, batch_first=True, dropout=0.2)"
      ]
     },
     "execution_count": 14,
     "metadata": {},
     "output_type": "execute_result"
    }
   ],
   "source": [
    "hpm.lstm"
   ]
  },
  {
   "cell_type": "code",
   "execution_count": 15,
   "metadata": {},
   "outputs": [
    {
     "data": {
      "text/plain": [
       "Sequential(\n",
       "  (0): Linear(in_features=64, out_features=64, bias=True)\n",
       "  (1): ReLU()\n",
       "  (2): Linear(in_features=64, out_features=11, bias=True)\n",
       "  (3): Softmax(dim=-1)\n",
       "  (4): MinMaxScaler()\n",
       ")"
      ]
     },
     "execution_count": 15,
     "metadata": {},
     "output_type": "execute_result"
    }
   ],
   "source": [
    "hpm.allocation"
   ]
  },
  {
   "cell_type": "code",
   "execution_count": 16,
   "metadata": {},
   "outputs": [
    {
     "data": {
      "text/plain": [
       "tensor([[0.0792, 0.0792, 0.0792, 0.0792, 0.0693, 0.0891, 0.2000, 0.0891, 0.0891,\n",
       "         0.0792, 0.0693]], grad_fn=<MinimumBackward0>)"
      ]
     },
     "execution_count": 16,
     "metadata": {},
     "output_type": "execute_result"
    }
   ],
   "source": [
    "hpm.forward(pfd.prepare_sequence(850)[0].unsqueeze(0))"
   ]
  },
  {
   "cell_type": "markdown",
   "metadata": {},
   "source": [
    "# Portfolio Optimizer"
   ]
  },
  {
   "cell_type": "code",
   "execution_count": 17,
   "metadata": {},
   "outputs": [],
   "source": [
    "optimizer = PortfolioOptimizer(pfd, hidden_dim=64, lr=0.0005)\n"
   ]
  },
  {
   "cell_type": "code",
   "execution_count": 28,
   "metadata": {},
   "outputs": [],
   "source": [
    "features, returns = pfd.prepare_sequence(-1)\n"
   ]
  },
  {
   "cell_type": "code",
   "execution_count": 29,
   "metadata": {},
   "outputs": [
    {
     "data": {
      "text/plain": [
       "tensor([ 0.0535,  0.1158,  0.2667, -0.0162,  0.1234,  0.1162,  0.2492,  0.0145,\n",
       "        -0.0056,  0.0128,  0.1168])"
      ]
     },
     "execution_count": 29,
     "metadata": {},
     "output_type": "execute_result"
    }
   ],
   "source": [
    "returns"
   ]
  },
  {
   "cell_type": "code",
   "execution_count": null,
   "metadata": {},
   "outputs": [],
   "source": [
    "loss, weights = optimizer.train_step(features, returns)"
   ]
  },
  {
   "cell_type": "code",
   "execution_count": 20,
   "metadata": {},
   "outputs": [
    {
     "data": {
      "text/plain": [
       "tensor([0.0784, 0.0784, 0.0784, 0.0980, 0.0784, 0.0784, 0.2000, 0.0882, 0.0784,\n",
       "        0.0784, 0.0686])"
      ]
     },
     "execution_count": 20,
     "metadata": {},
     "output_type": "execute_result"
    }
   ],
   "source": [
    "weights"
   ]
  },
  {
   "cell_type": "code",
   "execution_count": 24,
   "metadata": {},
   "outputs": [
    {
     "data": {
      "text/plain": [
       "tensor([[0.0707, 0.0808, 0.0808, 0.0808, 0.0707, 0.0909, 0.2020, 0.0909, 0.0909,\n",
       "         0.0707, 0.0707]], grad_fn=<MinimumBackward0>)"
      ]
     },
     "execution_count": 24,
     "metadata": {},
     "output_type": "execute_result"
    }
   ],
   "source": [
    "weights = hpm(features.unsqueeze(0))\n",
    "weights"
   ]
  },
  {
   "cell_type": "code",
   "execution_count": 30,
   "metadata": {},
   "outputs": [],
   "source": [
    "loss = -optimizer.calculate_sharpe(weights.squeeze(), returns)\n"
   ]
  },
  {
   "cell_type": "code",
   "execution_count": 31,
   "metadata": {},
   "outputs": [
    {
     "data": {
      "text/plain": [
       "tensor(0.0281, dtype=torch.float64, grad_fn=<NegBackward0>)"
      ]
     },
     "execution_count": 31,
     "metadata": {},
     "output_type": "execute_result"
    }
   ],
   "source": [
    "loss"
   ]
  },
  {
   "cell_type": "code",
   "execution_count": null,
   "metadata": {},
   "outputs": [],
   "source": []
  }
 ],
 "metadata": {
  "kernelspec": {
   "display_name": "venv",
   "language": "python",
   "name": "python3"
  },
  "language_info": {
   "codemirror_mode": {
    "name": "ipython",
    "version": 3
   },
   "file_extension": ".py",
   "mimetype": "text/x-python",
   "name": "python",
   "nbconvert_exporter": "python",
   "pygments_lexer": "ipython3",
   "version": "3.12.9"
  }
 },
 "nbformat": 4,
 "nbformat_minor": 2
}
